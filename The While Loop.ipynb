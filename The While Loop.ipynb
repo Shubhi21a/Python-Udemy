{
 "cells": [
  {
   "cell_type": "code",
   "execution_count": 1,
   "metadata": {},
   "outputs": [],
   "source": [
    "# R has a vectorized approach, allows us to avoid loops\n",
    "# Python is Object Oriented programming, not vectorized, so we make loops lot more often"
   ]
  },
  {
   "cell_type": "code",
   "execution_count": 2,
   "metadata": {},
   "outputs": [],
   "source": [
    "# indentation is a part of the syntax in Python\n",
    "# In while loop, it tells where the lines to be run in case the condition is True"
   ]
  },
  {
   "cell_type": "code",
   "execution_count": 3,
   "metadata": {},
   "outputs": [],
   "source": [
    "while False:\n",
    "    print (\"Hello\")"
   ]
  },
  {
   "cell_type": "code",
   "execution_count": 4,
   "metadata": {},
   "outputs": [],
   "source": [
    "# if the code was:\n",
    "# while True\n",
    "# print (\"Hello\")\n",
    "\n",
    "# This is an infinite loop\n",
    "# To exit, press 00"
   ]
  },
  {
   "cell_type": "code",
   "execution_count": 5,
   "metadata": {},
   "outputs": [
    {
     "name": "stdout",
     "output_type": "stream",
     "text": [
      "0\n",
      "1\n",
      "2\n",
      "3\n",
      "4\n",
      "5\n",
      "6\n",
      "7\n",
      "8\n",
      "9\n",
      "10\n",
      "11\n"
     ]
    }
   ],
   "source": [
    "counter=0\n",
    "while counter<12:\n",
    "    print(counter)\n",
    "    counter=counter+1\n",
    "# indexation in Python starts at 0, in R it starts at 1.\n",
    "#Good idea to start value of variables with 0 in such cases"
   ]
  },
  {
   "cell_type": "code",
   "execution_count": 6,
   "metadata": {},
   "outputs": [
    {
     "name": "stdout",
     "output_type": "stream",
     "text": [
      "0\n",
      ":)\n",
      "1\n",
      ":)\n"
     ]
    }
   ],
   "source": [
    "c=0\n",
    "while c<2:\n",
    "    print (c)\n",
    "    print(\":)\")\n",
    "    c=c+1"
   ]
  },
  {
   "cell_type": "code",
   "execution_count": 1,
   "metadata": {},
   "outputs": [
    {
     "name": "stdout",
     "output_type": "stream",
     "text": [
      "0\n",
      "1\n",
      ":)\n"
     ]
    }
   ],
   "source": [
    "b=0\n",
    "while b<2:\n",
    "    print (b)\n",
    "    b=b+1\n",
    "print (\":)\")\n"
   ]
  },
  {
   "cell_type": "code",
   "execution_count": 10,
   "metadata": {},
   "outputs": [],
   "source": [
    "# This time :) is printed only once, since its indentation is different, and hence it's not a part of the loop"
   ]
  },
  {
   "cell_type": "code",
   "execution_count": null,
   "metadata": {},
   "outputs": [],
   "source": []
  }
 ],
 "metadata": {
  "kernelspec": {
   "display_name": "Python 3",
   "language": "python",
   "name": "python3"
  },
  "language_info": {
   "codemirror_mode": {
    "name": "ipython",
    "version": 3
   },
   "file_extension": ".py",
   "mimetype": "text/x-python",
   "name": "python",
   "nbconvert_exporter": "python",
   "pygments_lexer": "ipython3",
   "version": "3.6.5"
  }
 },
 "nbformat": 4,
 "nbformat_minor": 2
}
