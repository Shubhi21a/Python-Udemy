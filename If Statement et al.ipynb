{
 "cells": [
  {
   "cell_type": "code",
   "execution_count": 1,
   "metadata": {},
   "outputs": [],
   "source": [
    "#Numpy used for scientific calculation, np is the alias for it\n",
    "#since we installed anaconda, which already has the numpy package, so we didn't have to install it, and can call it directly\n",
    "import numpy as np\n",
    "from numpy.random import randn "
   ]
  },
  {
   "cell_type": "code",
   "execution_count": 17,
   "metadata": {},
   "outputs": [
    {
     "data": {
      "text/plain": [
       "-1.3654949392863018"
      ]
     },
     "execution_count": 17,
     "metadata": {},
     "output_type": "execute_result"
    }
   ],
   "source": [
    "randn()\n",
    "# creates random numbers; mean=0, std devn=1\n",
    "# Press ctrl+Enter to keep running this command over and over again."
   ]
  },
  {
   "cell_type": "code",
   "execution_count": 24,
   "metadata": {},
   "outputs": [
    {
     "name": "stdout",
     "output_type": "stream",
     "text": [
      "0.21194267317842685\n",
      "None\n"
     ]
    }
   ],
   "source": [
    "#---- -2 --- -1 --- 0 --- 1 --- 2 --- \n",
    "answer= None\n",
    "#None is the Python equivalent of NULL \n",
    "# we define answer as None in the beginning so that we don't get error that the variable doesn't exist\n",
    "# e.g., if x= -0.5, it is less than 1, hence if statement is false, and answer doesn't get value \"Greater than 1\"\n",
    "# Later we ask for answer to be printed though it has no value, and hence we get an error\n",
    "# On defining answer as none that doesn't happen, plus before a loop runs, we reset value to none\n",
    "# That prevents it from holding on to values from previous loop \n",
    "x=randn()\n",
    "if x>1:\n",
    "    answer= \"Greater than 1\"\n",
    "print(x)\n",
    "print(answer)"
   ]
  },
  {
   "cell_type": "code",
   "execution_count": 25,
   "metadata": {},
   "outputs": [
    {
     "name": "stdout",
     "output_type": "stream",
     "text": [
      "-0.939289543524387\n",
      "Less than 1\n"
     ]
    }
   ],
   "source": [
    "#---- -2 --- -1 --- 0 --- 1 --- 2 --- \n",
    "answer= None\n",
    "x=randn()\n",
    "if x>1:\n",
    "    answer= \"Greater than 1\"\n",
    "else:\n",
    "    answer= \"Less than 1\"\n",
    "print(x)\n",
    "print(answer)"
   ]
  },
  {
   "cell_type": "markdown",
   "metadata": {},
   "source": [
    "---\n"
   ]
  },
  {
   "cell_type": "code",
   "execution_count": 45,
   "metadata": {},
   "outputs": [
    {
     "name": "stdout",
     "output_type": "stream",
     "text": [
      "-1.4131756887117466\n",
      "Less than 1\n"
     ]
    }
   ],
   "source": [
    "#---- -2 --- -1 --- 0 --- 1 --- 2\n",
    "# `````` Nested Statement```````\n",
    "answer= None\n",
    "x=randn()\n",
    "if x>1:\n",
    "    answer= \"Greater than 1\"\n",
    "else:\n",
    "    if x>= -1:\n",
    "        answer= \"between -1 and 1\"\n",
    "    else:\n",
    "        answer= \"Less than 1\"\n",
    "print(x)\n",
    "print(answer)"
   ]
  },
  {
   "cell_type": "markdown",
   "metadata": {},
   "source": [
    "---"
   ]
  },
  {
   "cell_type": "code",
   "execution_count": 46,
   "metadata": {},
   "outputs": [
    {
     "name": "stdout",
     "output_type": "stream",
     "text": [
      "0.16085014538958203\n",
      "between -1 and 1\n"
     ]
    }
   ],
   "source": [
    "#---- -2 --- -1 --- 0 --- 1 --- 2\n",
    "# `````` Chained Statement```````\n",
    "# else if combined to elif, in other prog. languages, elseif\n",
    "answer= None\n",
    "x=randn()\n",
    "if x>1:\n",
    "    answer= \"Greater than 1\"\n",
    "elif x>= -1:\n",
    "    answer= \"between -1 and 1\"\n",
    "else:\n",
    "    answer= \"Less than 1\"\n",
    "print(x)\n",
    "print(answer)"
   ]
  },
  {
   "cell_type": "code",
   "execution_count": null,
   "metadata": {},
   "outputs": [],
   "source": []
  }
 ],
 "metadata": {
  "kernelspec": {
   "display_name": "Python 3",
   "language": "python",
   "name": "python3"
  },
  "language_info": {
   "codemirror_mode": {
    "name": "ipython",
    "version": 3
   },
   "file_extension": ".py",
   "mimetype": "text/x-python",
   "name": "python",
   "nbconvert_exporter": "python",
   "pygments_lexer": "ipython3",
   "version": "3.6.5"
  }
 },
 "nbformat": 4,
 "nbformat_minor": 2
}
