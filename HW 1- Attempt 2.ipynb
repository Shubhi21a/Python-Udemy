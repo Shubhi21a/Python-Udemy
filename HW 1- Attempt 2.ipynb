{
 "cells": [
  {
   "cell_type": "code",
   "execution_count": 1,
   "metadata": {},
   "outputs": [],
   "source": [
    "#Testing law of large numbers for N random normally distributed nos, mean=0, variance=1\n",
    "#Create a python script that'll count how many nos. fall b/w -1 & 1& divide that by total N\n",
    "# E(X)= 68.2%\n",
    "# Check that mean (Xn) -> E(X) as you rerun your script while increasing N\n"
   ]
  },
  {
   "cell_type": "code",
   "execution_count": 2,
   "metadata": {},
   "outputs": [],
   "source": [
    "import numpy as np\n",
    "from numpy.random import randn"
   ]
  },
  {
   "cell_type": "code",
   "execution_count": 4,
   "metadata": {},
   "outputs": [
    {
     "data": {
      "text/plain": [
       "array([ 0.228803  ,  0.5124266 ,  0.42780231,  0.29020175, -0.13002898,\n",
       "        0.19469855, -1.68895682, -0.52808257,  0.15415407,  0.54110876])"
      ]
     },
     "execution_count": 4,
     "metadata": {},
     "output_type": "execute_result"
    }
   ],
   "source": [
    "randn(10) #can pass value to randn function"
   ]
  },
  {
   "cell_type": "code",
   "execution_count": 4,
   "metadata": {},
   "outputs": [
    {
     "name": "stdout",
     "output_type": "stream",
     "text": [
      "[ 1.11679199  0.31370353  0.2114208  -0.28692791 -1.31663938  1.46300373\n",
      "  1.08176003 -0.89124496 -0.98479921 -1.0839064 ]\n",
      "Out of  10  numbers 5  were between -1 and 1\n",
      " E(x)=  50.0  %\n"
     ]
    }
   ],
   "source": [
    "n=10 \n",
    "# for 10 nos\n",
    "numbers= randn(n)\n",
    "print(numbers)\n",
    "count= 0\n",
    "i=0\n",
    "while i<n:\n",
    "    if numbers[i]> -1 and numbers[i]< 1: \n",
    "        count= count +1 \n",
    "    i= i+1 # make sure this is indented correctly, like this, otherwise, it'll be an infinite loop\n",
    "    \n",
    "    # value of i has to keep increasing for the while loop to run ,hence indentation acc to that for while loop\n",
    "    # that means, it will have same indentation as if, since if is also running under while\n",
    "    # in case, indentation of i is kept same as that of count, it will become a part of the if statement\n",
    "    \n",
    "print(\"Out of \" ,n, \" numbers\" , count , \" were between -1 and 1\")\n",
    "print(\" E(x)= \" , (count/n)*100 , \" %\")\n"
   ]
  },
  {
   "cell_type": "code",
   "execution_count": 3,
   "metadata": {},
   "outputs": [
    {
     "name": "stdout",
     "output_type": "stream",
     "text": [
      "[ 0.10425965  0.2759727   0.25312214 -0.73001719  1.49463188  0.42954924\n",
      "  0.67540691 -1.22071391  1.39792869  0.47120989]\n"
     ]
    }
   ],
   "source": [
    "n=10 \n",
    "# for 10 nos\n",
    "numbers= randn(n)\n",
    "print(numbers)"
   ]
  },
  {
   "cell_type": "code",
   "execution_count": 6,
   "metadata": {},
   "outputs": [
    {
     "name": "stdout",
     "output_type": "stream",
     "text": [
      "[ 0.03062762  0.15843232 -0.90919383  1.71508391 -0.11126532 -0.55280212\n",
      " -0.4829417  -0.30391617  0.8513988  -0.04371234 -0.75905117  0.25873749\n",
      " -1.07712431  0.05187349  0.81198162 -0.60866249 -0.35704827 -1.74920102\n",
      "  0.09408045  1.03140636 -2.01058428  0.43494671  1.53676263 -0.48658375\n",
      "  0.46240271  0.37387093 -0.2278479  -0.00953232 -0.56633242  0.67982359\n",
      " -0.28927404  0.74949196 -1.0506479  -0.17358354  0.14919214  0.152819\n",
      " -1.68418164  0.45585018 -0.28116362  1.44631716  1.74565899  1.94543317\n",
      " -1.40931727  0.60774643 -0.16785691  0.48619506  0.20760235  0.07492545\n",
      " -0.58274969  1.57979915  1.9813901   0.14546819 -0.2345872   0.21725945\n",
      " -0.67067436 -1.60378555  1.06450696 -0.2789537  -1.42404041  1.79184529\n",
      "  1.17561419  0.28979175  1.7595348   0.01869776 -1.18091227  0.16936771\n",
      "  0.61345598  1.99394846 -1.67232381  0.15418062  0.25794182 -0.16714752\n",
      "  0.3738029  -0.16413472 -0.40684509  0.41385819  0.83542498  0.48346893\n",
      " -0.56358052  0.44872169  0.30339461  0.1945523  -0.45212835  1.1717248\n",
      "  0.65524173 -1.07499873  2.16691385 -1.7039505   0.18786722  1.41848197\n",
      "  0.33464235 -0.55002824 -0.78648657 -2.29466531 -0.22953177  0.05137093\n",
      "  0.27062422 -0.46087261 -0.01088498 -1.50263917]\n",
      "Out of  100  numbers, 70  were between -1 and 1\n",
      " E(x)=  70.0  %\n"
     ]
    }
   ],
   "source": [
    "n=100\n",
    "# for 100 nos\n",
    "numbers= randn(n)\n",
    "print(numbers)\n",
    "count= 0\n",
    "i=0\n",
    "while i<n:\n",
    "    if numbers[i]> -1 and numbers[i]< 1: \n",
    "        count= count +1 \n",
    "    i= i+1 \n",
    "print(\"Out of \" ,n, \" numbers,\" , count , \" were between -1 and 1\")\n",
    "print(\" E(x)= \" , (count/n)*100 , \" %\")\n"
   ]
  },
  {
   "cell_type": "code",
   "execution_count": 7,
   "metadata": {},
   "outputs": [
    {
     "name": "stdout",
     "output_type": "stream",
     "text": [
      "[-0.96490211  1.03542368 -2.26789292 -0.13895106 -0.83494607  0.13953223\n",
      " -1.31698747  0.52126888  1.74181187 -0.56568353  0.71886267 -1.23307176\n",
      " -0.07868835 -0.13070758  0.34189008  0.45607102 -0.0657247  -1.39320229\n",
      "  1.44042293 -1.04416755  0.84464161  0.66373493 -0.07448969 -0.63696866\n",
      " -0.66074792  0.49295671  1.07368658  0.35776229 -1.24932466 -1.43664689\n",
      "  0.19933621 -0.85106236  0.97333718 -0.24902881 -0.84176934 -1.3564414\n",
      "  0.90804951 -0.8364335   0.54871389 -0.56255373 -0.36685572  0.21896414\n",
      "  0.43170871  1.02587786  1.22786127 -0.96731934 -0.56331356  1.47690711\n",
      "  0.8565748  -0.66928722  0.79799986  2.32766772  0.89070025  0.63057864\n",
      "  0.68181916 -0.36450741  0.60703779 -1.25823984 -1.31358034  0.60858463\n",
      " -1.4003763   0.73712254  0.40049781  1.05453518 -1.38542171  0.30616692\n",
      "  1.27331999 -1.08959112 -0.78816158 -1.86465887 -1.72125884 -0.83249944\n",
      " -0.47013312  0.60502159  0.92673386 -0.62736685  0.72243738 -1.89968723\n",
      " -0.40042051  0.13761017 -0.69115441  0.54396197 -1.0991184   0.31838041\n",
      " -1.32330229  0.3081735   0.61133757  0.14026075  0.82031012  0.80975492\n",
      " -0.12145729 -0.55237878  1.79043452  0.86122049 -0.96029612 -0.52915721\n",
      "  0.53876971  0.76760082  1.34856274  0.67453108 -1.56486959  0.93082466\n",
      " -0.10754896  1.15604519  0.78819698 -0.06298089  0.75833878  0.75578646\n",
      "  0.39173493 -1.56502223  1.17389998  0.20701406  0.73722707 -0.25031909\n",
      " -0.38152916  0.89340699 -0.13193809 -1.12453736 -0.60397134 -0.60019939\n",
      " -0.58423816  0.15854953 -0.27520226  0.04633609  0.50585575  0.79743626\n",
      " -0.14631863  0.73892661  2.09997229 -1.54636624  1.01106513 -0.59610048\n",
      " -1.50602461 -0.56294239 -1.4934039   1.68344566 -1.81091284  0.3831898\n",
      "  1.31530042 -0.74673024  0.90074146 -1.18631171 -1.40741197  1.50298298\n",
      "  0.02387212  0.62430243  0.82378458  0.93029963 -0.31444802  0.21440681\n",
      "  0.10195238 -0.72096677  0.39742248 -0.16797732 -1.46207922 -0.04282474\n",
      " -0.43253903  1.45083524  0.46529685 -1.03307836  1.0877987  -0.99522883\n",
      "  1.50519405  1.12133982  1.06994989  0.68248271 -0.26262517 -0.85942159\n",
      "  0.9169277  -0.05752831  0.11035552  1.14170288 -0.37590235  0.1084445\n",
      "  0.01723143 -0.06874489 -0.19131225 -0.41672336 -0.05444513  0.02363456\n",
      " -1.02953212 -0.29499687  1.05383783  0.16920933  1.65373065 -2.275482\n",
      " -0.65833225 -0.60766424 -1.08119905  0.38202696 -0.34124211  0.32437249\n",
      "  0.11101333  0.09186786 -0.83338913  0.11622225 -0.24920963  0.49397421\n",
      "  0.912917    2.61190829]\n",
      "Out of  200  numbers, 140  were between -1 and 1\n",
      " E(x)=  70.0  %\n"
     ]
    }
   ],
   "source": [
    "n=200\n",
    "# for 200 nos\n",
    "numbers= randn(n)\n",
    "count= 0\n",
    "i=0\n",
    "while i<n:\n",
    "    if numbers[i]> -1 and numbers[i]< 1: \n",
    "        count= count +1 \n",
    "    i= i+1 \n",
    "print(\"Out of \" ,n, \" numbers,\" , count , \" were between -1 and 1\")\n",
    "print(\" E(x)= \" , (count/n)*100 , \"%\")"
   ]
  },
  {
   "cell_type": "code",
   "execution_count": 8,
   "metadata": {},
   "outputs": [
    {
     "name": "stdout",
     "output_type": "stream",
     "text": [
      "Out of  500  numbers, 334  were between -1 and 1\n",
      " E(x)=  66.8 %\n"
     ]
    }
   ],
   "source": [
    "n=500\n",
    "# for 500 nos\n",
    "numbers= randn(n)\n",
    "count= 0\n",
    "i=0\n",
    "while i<n:\n",
    "    if numbers[i]> -1 and numbers[i]< 1: \n",
    "        count= count +1 \n",
    "    i= i+1 \n",
    "print(\"Out of \" ,n, \" numbers,\" , count , \" were between -1 and 1\")\n",
    "print(\" E(x)= \" , (count/n)*100 , \"%\")"
   ]
  },
  {
   "cell_type": "code",
   "execution_count": 9,
   "metadata": {},
   "outputs": [
    {
     "name": "stdout",
     "output_type": "stream",
     "text": [
      "Out of  1000  numbers, 674  were between -1 and 1\n",
      " E(x)=  67.4 %\n"
     ]
    }
   ],
   "source": [
    "n=1000\n",
    "# for 1000 nos\n",
    "numbers= randn(n)\n",
    "count= 0\n",
    "i=0\n",
    "while i<n:\n",
    "    if numbers[i]> -1 and numbers[i]< 1: \n",
    "        count= count +1 \n",
    "    i= i+1 \n",
    "print(\"Out of \" ,n, \" numbers,\" , count , \" were between -1 and 1\")\n",
    "print(\" E(x)= \" , (count/n)*100 , \"%\")"
   ]
  },
  {
   "cell_type": "code",
   "execution_count": 10,
   "metadata": {},
   "outputs": [
    {
     "name": "stdout",
     "output_type": "stream",
     "text": [
      "Out of  5000  numbers, 3355  were between -1 and 1\n",
      " E(x)=  67.10000000000001 %\n"
     ]
    }
   ],
   "source": [
    "n=5000\n",
    "# for 5000 nos\n",
    "numbers= randn(n)\n",
    "count= 0\n",
    "i=0\n",
    "while i<n:\n",
    "    if numbers[i]> -1 and numbers[i]< 1: \n",
    "        count= count +1 \n",
    "    i= i+1 \n",
    "print(\"Out of \" ,n, \" numbers,\" , count , \" were between -1 and 1\")\n",
    "print(\" E(x)= \" , (count/n)*100 , \"%\")"
   ]
  },
  {
   "cell_type": "code",
   "execution_count": 11,
   "metadata": {},
   "outputs": [
    {
     "name": "stdout",
     "output_type": "stream",
     "text": [
      "Out of  10000  numbers, 6768  were between -1 and 1\n",
      " E(x)=  67.67999999999999 %\n"
     ]
    }
   ],
   "source": [
    "n=10000\n",
    "# for 10000 nos\n",
    "numbers= randn(n)\n",
    "count= 0\n",
    "i=0\n",
    "while i<n:\n",
    "    if numbers[i]> -1 and numbers[i]< 1: \n",
    "        count= count +1 \n",
    "    i= i+1 \n",
    "print(\"Out of \" ,n, \" numbers,\" , count , \" were between -1 and 1\")\n",
    "print(\" E(x)= \" , (count/n)*100 , \"%\")"
   ]
  },
  {
   "cell_type": "code",
   "execution_count": 12,
   "metadata": {},
   "outputs": [
    {
     "name": "stdout",
     "output_type": "stream",
     "text": [
      "Out of  20000  numbers, 13593  were between -1 and 1\n",
      " E(x)=  67.965 %\n"
     ]
    }
   ],
   "source": [
    "n=20000\n",
    "# for 20000 nos\n",
    "numbers= randn(n)\n",
    "count= 0\n",
    "i=0\n",
    "while i<n:\n",
    "    if numbers[i]> -1 and numbers[i]< 1: \n",
    "        count= count +1 \n",
    "    i= i+1 \n",
    "print(\"Out of \" ,n, \" numbers,\" , count , \" were between -1 and 1\")\n",
    "print(\" E(x)= \" , (count/n)*100 , \"%\")"
   ]
  },
  {
   "cell_type": "code",
   "execution_count": null,
   "metadata": {},
   "outputs": [],
   "source": []
  }
 ],
 "metadata": {
  "kernelspec": {
   "display_name": "Python 3",
   "language": "python",
   "name": "python3"
  },
  "language_info": {
   "codemirror_mode": {
    "name": "ipython",
    "version": 3
   },
   "file_extension": ".py",
   "mimetype": "text/x-python",
   "name": "python",
   "nbconvert_exporter": "python",
   "pygments_lexer": "ipython3",
   "version": "3.6.5"
  }
 },
 "nbformat": 4,
 "nbformat_minor": 2
}
