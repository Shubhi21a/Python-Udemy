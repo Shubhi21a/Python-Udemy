{
 "cells": [
  {
   "cell_type": "code",
   "execution_count": 1,
   "metadata": {},
   "outputs": [],
   "source": [
    "import pandas as pd"
   ]
  },
  {
   "cell_type": "code",
   "execution_count": 2,
   "metadata": {},
   "outputs": [],
   "source": [
    "import os"
   ]
  },
  {
   "cell_type": "code",
   "execution_count": 3,
   "metadata": {},
   "outputs": [
    {
     "data": {
      "text/plain": [
       "'C:\\\\Users\\\\Student\\\\Desktop\\\\Data Science Apps\\\\Courses\\\\Udemy\\\\Python\\\\Udemy Python'"
      ]
     },
     "execution_count": 3,
     "metadata": {},
     "output_type": "execute_result"
    }
   ],
   "source": [
    "os.getcwd()"
   ]
  },
  {
   "cell_type": "code",
   "execution_count": 4,
   "metadata": {},
   "outputs": [],
   "source": [
    "movies=pd.read_csv(\"Movie-Ratings.csv\")"
   ]
  },
  {
   "cell_type": "code",
   "execution_count": 5,
   "metadata": {},
   "outputs": [
    {
     "data": {
      "text/plain": [
       "559"
      ]
     },
     "execution_count": 5,
     "metadata": {},
     "output_type": "execute_result"
    }
   ],
   "source": [
    "len(movies)"
   ]
  },
  {
   "cell_type": "code",
   "execution_count": 6,
   "metadata": {},
   "outputs": [
    {
     "data": {
      "text/html": [
       "<div>\n",
       "<style scoped>\n",
       "    .dataframe tbody tr th:only-of-type {\n",
       "        vertical-align: middle;\n",
       "    }\n",
       "\n",
       "    .dataframe tbody tr th {\n",
       "        vertical-align: top;\n",
       "    }\n",
       "\n",
       "    .dataframe thead th {\n",
       "        text-align: right;\n",
       "    }\n",
       "</style>\n",
       "<table border=\"1\" class=\"dataframe\">\n",
       "  <thead>\n",
       "    <tr style=\"text-align: right;\">\n",
       "      <th></th>\n",
       "      <th>Film</th>\n",
       "      <th>Genre</th>\n",
       "      <th>Rotten Tomatoes Ratings %</th>\n",
       "      <th>Audience Ratings %</th>\n",
       "      <th>Budget (million $)</th>\n",
       "      <th>Year of release</th>\n",
       "    </tr>\n",
       "  </thead>\n",
       "  <tbody>\n",
       "    <tr>\n",
       "      <th>0</th>\n",
       "      <td>(500) Days of Summer</td>\n",
       "      <td>Comedy</td>\n",
       "      <td>87</td>\n",
       "      <td>81</td>\n",
       "      <td>8</td>\n",
       "      <td>2009</td>\n",
       "    </tr>\n",
       "    <tr>\n",
       "      <th>1</th>\n",
       "      <td>10,000 B.C.</td>\n",
       "      <td>Adventure</td>\n",
       "      <td>9</td>\n",
       "      <td>44</td>\n",
       "      <td>105</td>\n",
       "      <td>2008</td>\n",
       "    </tr>\n",
       "    <tr>\n",
       "      <th>2</th>\n",
       "      <td>12 Rounds</td>\n",
       "      <td>Action</td>\n",
       "      <td>30</td>\n",
       "      <td>52</td>\n",
       "      <td>20</td>\n",
       "      <td>2009</td>\n",
       "    </tr>\n",
       "    <tr>\n",
       "      <th>3</th>\n",
       "      <td>127 Hours</td>\n",
       "      <td>Adventure</td>\n",
       "      <td>93</td>\n",
       "      <td>84</td>\n",
       "      <td>18</td>\n",
       "      <td>2010</td>\n",
       "    </tr>\n",
       "    <tr>\n",
       "      <th>4</th>\n",
       "      <td>17 Again</td>\n",
       "      <td>Comedy</td>\n",
       "      <td>55</td>\n",
       "      <td>70</td>\n",
       "      <td>20</td>\n",
       "      <td>2009</td>\n",
       "    </tr>\n",
       "  </tbody>\n",
       "</table>\n",
       "</div>"
      ],
      "text/plain": [
       "                    Film      Genre  Rotten Tomatoes Ratings %  \\\n",
       "0  (500) Days of Summer      Comedy                         87   \n",
       "1            10,000 B.C.  Adventure                          9   \n",
       "2             12 Rounds      Action                         30   \n",
       "3              127 Hours  Adventure                         93   \n",
       "4              17 Again      Comedy                         55   \n",
       "\n",
       "   Audience Ratings %  Budget (million $)  Year of release  \n",
       "0                  81                   8             2009  \n",
       "1                  44                 105             2008  \n",
       "2                  52                  20             2009  \n",
       "3                  84                  18             2010  \n",
       "4                  70                  20             2009  "
      ]
     },
     "execution_count": 6,
     "metadata": {},
     "output_type": "execute_result"
    }
   ],
   "source": [
    "movies.head()"
   ]
  },
  {
   "cell_type": "code",
   "execution_count": 7,
   "metadata": {},
   "outputs": [
    {
     "data": {
      "text/plain": [
       "Index(['Film', 'Genre', 'Rotten Tomatoes Ratings %', 'Audience Ratings %',\n",
       "       'Budget (million $)', 'Year of release'],\n",
       "      dtype='object')"
      ]
     },
     "execution_count": 7,
     "metadata": {},
     "output_type": "execute_result"
    }
   ],
   "source": [
    "movies.columns"
   ]
  },
  {
   "cell_type": "code",
   "execution_count": 8,
   "metadata": {},
   "outputs": [],
   "source": [
    "movies.columns=['Film','Genre','CriticsRating','AudienceRating','BudgetMillions','Year']"
   ]
  },
  {
   "cell_type": "code",
   "execution_count": 9,
   "metadata": {},
   "outputs": [
    {
     "data": {
      "text/html": [
       "<div>\n",
       "<style scoped>\n",
       "    .dataframe tbody tr th:only-of-type {\n",
       "        vertical-align: middle;\n",
       "    }\n",
       "\n",
       "    .dataframe tbody tr th {\n",
       "        vertical-align: top;\n",
       "    }\n",
       "\n",
       "    .dataframe thead th {\n",
       "        text-align: right;\n",
       "    }\n",
       "</style>\n",
       "<table border=\"1\" class=\"dataframe\">\n",
       "  <thead>\n",
       "    <tr style=\"text-align: right;\">\n",
       "      <th></th>\n",
       "      <th>Film</th>\n",
       "      <th>Genre</th>\n",
       "      <th>CriticsRating</th>\n",
       "      <th>AudienceRating</th>\n",
       "      <th>BudgetMillions</th>\n",
       "      <th>Year</th>\n",
       "    </tr>\n",
       "  </thead>\n",
       "  <tbody>\n",
       "    <tr>\n",
       "      <th>0</th>\n",
       "      <td>(500) Days of Summer</td>\n",
       "      <td>Comedy</td>\n",
       "      <td>87</td>\n",
       "      <td>81</td>\n",
       "      <td>8</td>\n",
       "      <td>2009</td>\n",
       "    </tr>\n",
       "    <tr>\n",
       "      <th>1</th>\n",
       "      <td>10,000 B.C.</td>\n",
       "      <td>Adventure</td>\n",
       "      <td>9</td>\n",
       "      <td>44</td>\n",
       "      <td>105</td>\n",
       "      <td>2008</td>\n",
       "    </tr>\n",
       "    <tr>\n",
       "      <th>2</th>\n",
       "      <td>12 Rounds</td>\n",
       "      <td>Action</td>\n",
       "      <td>30</td>\n",
       "      <td>52</td>\n",
       "      <td>20</td>\n",
       "      <td>2009</td>\n",
       "    </tr>\n",
       "    <tr>\n",
       "      <th>3</th>\n",
       "      <td>127 Hours</td>\n",
       "      <td>Adventure</td>\n",
       "      <td>93</td>\n",
       "      <td>84</td>\n",
       "      <td>18</td>\n",
       "      <td>2010</td>\n",
       "    </tr>\n",
       "    <tr>\n",
       "      <th>4</th>\n",
       "      <td>17 Again</td>\n",
       "      <td>Comedy</td>\n",
       "      <td>55</td>\n",
       "      <td>70</td>\n",
       "      <td>20</td>\n",
       "      <td>2009</td>\n",
       "    </tr>\n",
       "  </tbody>\n",
       "</table>\n",
       "</div>"
      ],
      "text/plain": [
       "                    Film      Genre  CriticsRating  AudienceRating  \\\n",
       "0  (500) Days of Summer      Comedy             87              81   \n",
       "1            10,000 B.C.  Adventure              9              44   \n",
       "2             12 Rounds      Action             30              52   \n",
       "3              127 Hours  Adventure             93              84   \n",
       "4              17 Again      Comedy             55              70   \n",
       "\n",
       "   BudgetMillions  Year  \n",
       "0               8  2009  \n",
       "1             105  2008  \n",
       "2              20  2009  \n",
       "3              18  2010  \n",
       "4              20  2009  "
      ]
     },
     "execution_count": 9,
     "metadata": {},
     "output_type": "execute_result"
    }
   ],
   "source": [
    "movies.head()"
   ]
  },
  {
   "cell_type": "code",
   "execution_count": 10,
   "metadata": {},
   "outputs": [
    {
     "name": "stdout",
     "output_type": "stream",
     "text": [
      "<class 'pandas.core.frame.DataFrame'>\n",
      "RangeIndex: 559 entries, 0 to 558\n",
      "Data columns (total 6 columns):\n",
      "Film              559 non-null object\n",
      "Genre             559 non-null object\n",
      "CriticsRating     559 non-null int64\n",
      "AudienceRating    559 non-null int64\n",
      "BudgetMillions    559 non-null int64\n",
      "Year              559 non-null int64\n",
      "dtypes: int64(4), object(2)\n",
      "memory usage: 26.3+ KB\n"
     ]
    }
   ],
   "source": [
    "movies.info()"
   ]
  },
  {
   "cell_type": "code",
   "execution_count": 11,
   "metadata": {},
   "outputs": [],
   "source": [
    "# Year is not treated the same way as other int numbers here. We won't add year etc"
   ]
  },
  {
   "cell_type": "code",
   "execution_count": 12,
   "metadata": {},
   "outputs": [
    {
     "data": {
      "text/html": [
       "<div>\n",
       "<style scoped>\n",
       "    .dataframe tbody tr th:only-of-type {\n",
       "        vertical-align: middle;\n",
       "    }\n",
       "\n",
       "    .dataframe tbody tr th {\n",
       "        vertical-align: top;\n",
       "    }\n",
       "\n",
       "    .dataframe thead th {\n",
       "        text-align: right;\n",
       "    }\n",
       "</style>\n",
       "<table border=\"1\" class=\"dataframe\">\n",
       "  <thead>\n",
       "    <tr style=\"text-align: right;\">\n",
       "      <th></th>\n",
       "      <th>CriticsRating</th>\n",
       "      <th>AudienceRating</th>\n",
       "      <th>BudgetMillions</th>\n",
       "      <th>Year</th>\n",
       "    </tr>\n",
       "  </thead>\n",
       "  <tbody>\n",
       "    <tr>\n",
       "      <th>count</th>\n",
       "      <td>559.000000</td>\n",
       "      <td>559.000000</td>\n",
       "      <td>559.000000</td>\n",
       "      <td>559.000000</td>\n",
       "    </tr>\n",
       "    <tr>\n",
       "      <th>mean</th>\n",
       "      <td>47.309481</td>\n",
       "      <td>58.744186</td>\n",
       "      <td>50.236136</td>\n",
       "      <td>2009.152057</td>\n",
       "    </tr>\n",
       "    <tr>\n",
       "      <th>std</th>\n",
       "      <td>26.413091</td>\n",
       "      <td>16.826887</td>\n",
       "      <td>48.731817</td>\n",
       "      <td>1.362632</td>\n",
       "    </tr>\n",
       "    <tr>\n",
       "      <th>min</th>\n",
       "      <td>0.000000</td>\n",
       "      <td>0.000000</td>\n",
       "      <td>0.000000</td>\n",
       "      <td>2007.000000</td>\n",
       "    </tr>\n",
       "    <tr>\n",
       "      <th>25%</th>\n",
       "      <td>25.000000</td>\n",
       "      <td>47.000000</td>\n",
       "      <td>20.000000</td>\n",
       "      <td>2008.000000</td>\n",
       "    </tr>\n",
       "    <tr>\n",
       "      <th>50%</th>\n",
       "      <td>46.000000</td>\n",
       "      <td>58.000000</td>\n",
       "      <td>35.000000</td>\n",
       "      <td>2009.000000</td>\n",
       "    </tr>\n",
       "    <tr>\n",
       "      <th>75%</th>\n",
       "      <td>70.000000</td>\n",
       "      <td>72.000000</td>\n",
       "      <td>65.000000</td>\n",
       "      <td>2010.000000</td>\n",
       "    </tr>\n",
       "    <tr>\n",
       "      <th>max</th>\n",
       "      <td>97.000000</td>\n",
       "      <td>96.000000</td>\n",
       "      <td>300.000000</td>\n",
       "      <td>2011.000000</td>\n",
       "    </tr>\n",
       "  </tbody>\n",
       "</table>\n",
       "</div>"
      ],
      "text/plain": [
       "       CriticsRating  AudienceRating  BudgetMillions         Year\n",
       "count     559.000000      559.000000      559.000000   559.000000\n",
       "mean       47.309481       58.744186       50.236136  2009.152057\n",
       "std        26.413091       16.826887       48.731817     1.362632\n",
       "min         0.000000        0.000000        0.000000  2007.000000\n",
       "25%        25.000000       47.000000       20.000000  2008.000000\n",
       "50%        46.000000       58.000000       35.000000  2009.000000\n",
       "75%        70.000000       72.000000       65.000000  2010.000000\n",
       "max        97.000000       96.000000      300.000000  2011.000000"
      ]
     },
     "execution_count": 12,
     "metadata": {},
     "output_type": "execute_result"
    }
   ],
   "source": [
    "movies.describe()"
   ]
  },
  {
   "cell_type": "code",
   "execution_count": 13,
   "metadata": {},
   "outputs": [],
   "source": [
    "# mean value of year doesn't make sense\n",
    "# that's beacuse years are categories for us"
   ]
  },
  {
   "cell_type": "code",
   "execution_count": 15,
   "metadata": {},
   "outputs": [
    {
     "ename": "NameError",
     "evalue": "name 'Film' is not defined",
     "output_type": "error",
     "traceback": [
      "\u001b[1;31m---------------------------------------------------------------------------\u001b[0m",
      "\u001b[1;31mNameError\u001b[0m                                 Traceback (most recent call last)",
      "\u001b[1;32m<ipython-input-15-c3f70bd1bca6>\u001b[0m in \u001b[0;36m<module>\u001b[1;34m()\u001b[0m\n\u001b[1;32m----> 1\u001b[1;33m \u001b[0mmovies\u001b[0m\u001b[1;33m[\u001b[0m\u001b[0mFilm\u001b[0m\u001b[1;33m]\u001b[0m \u001b[1;31m# it has to be in '', ie 'Film'\u001b[0m\u001b[1;33m\u001b[0m\u001b[0m\n\u001b[0m",
      "\u001b[1;31mNameError\u001b[0m: name 'Film' is not defined"
     ]
    }
   ],
   "source": [
    "movies[Film] # it has to be in '', ie 'Film'"
   ]
  },
  {
   "cell_type": "code",
   "execution_count": 16,
   "metadata": {},
   "outputs": [
    {
     "data": {
      "text/plain": [
       "0                   (500) Days of Summer \n",
       "1                             10,000 B.C.\n",
       "2                              12 Rounds \n",
       "3                               127 Hours\n",
       "4                               17 Again \n",
       "5                                    2012\n",
       "6                              27 Dresses\n",
       "7                        30 Days of Night\n",
       "8                      30 Minutes or Less\n",
       "9                                   50/50\n",
       "10                             88 Minutes\n",
       "11                     A Dangerous Method\n",
       "12              A Nightmare on Elm Street\n",
       "13                         A Serious Man \n",
       "14      A Very Harold and Kumar Christmas\n",
       "15                              Abduction\n",
       "16                    Across the Universe\n",
       "17                         Adventureland \n",
       "18                           Albert Nobbs\n",
       "19                    Alice in Wonderland\n",
       "20          Alien vs. Predator -- Requiem\n",
       "21                   Aliens in the Attic \n",
       "22                       All About Steve \n",
       "23                        All Good Things\n",
       "24                                Amelia \n",
       "25                      American Gangster\n",
       "26                           An Education\n",
       "27                              Anonymous\n",
       "28                              Apollo 18\n",
       "29                              Appaloosa\n",
       "                      ...                \n",
       "529                             War Horse\n",
       "530                               Warrior\n",
       "531                             Watchmen \n",
       "532                   Water For Elephants\n",
       "533                       We Bought a Zoo\n",
       "534                      We Own the Night\n",
       "535          Welcome Home, Roscoe Jenkins\n",
       "536                 What Happens in Vegas\n",
       "537                    What's Your Number\n",
       "538                       Whatever Works \n",
       "539                          When in Rome\n",
       "540            Where the Wild Things Are \n",
       "541                              Whip It \n",
       "542                             Whiteout \n",
       "543            Why Did I Get Married Too?\n",
       "544                             Wild Hogs\n",
       "545                         Winter's Bone\n",
       "546             X-Men Origins: Wolverine \n",
       "547                    X-Men: First Class\n",
       "548                             Year One \n",
       "549                               Yes Man\n",
       "550                             Yogi Bear\n",
       "551                             You Again\n",
       "552         You Don't Mess with the Zohan\n",
       "553    You Will Meet a Tall Dark Stranger\n",
       "554                         Your Highness\n",
       "555                       Youth in Revolt\n",
       "556                                Zodiac\n",
       "557                           Zombieland \n",
       "558                             Zookeeper\n",
       "Name: Film, Length: 559, dtype: object"
      ]
     },
     "execution_count": 16,
     "metadata": {},
     "output_type": "execute_result"
    }
   ],
   "source": [
    "movies['Film']"
   ]
  },
  {
   "cell_type": "code",
   "execution_count": 17,
   "metadata": {},
   "outputs": [
    {
     "data": {
      "text/plain": [
       "0                   (500) Days of Summer \n",
       "1                             10,000 B.C.\n",
       "2                              12 Rounds \n",
       "3                               127 Hours\n",
       "4                               17 Again \n",
       "5                                    2012\n",
       "6                              27 Dresses\n",
       "7                        30 Days of Night\n",
       "8                      30 Minutes or Less\n",
       "9                                   50/50\n",
       "10                             88 Minutes\n",
       "11                     A Dangerous Method\n",
       "12              A Nightmare on Elm Street\n",
       "13                         A Serious Man \n",
       "14      A Very Harold and Kumar Christmas\n",
       "15                              Abduction\n",
       "16                    Across the Universe\n",
       "17                         Adventureland \n",
       "18                           Albert Nobbs\n",
       "19                    Alice in Wonderland\n",
       "20          Alien vs. Predator -- Requiem\n",
       "21                   Aliens in the Attic \n",
       "22                       All About Steve \n",
       "23                        All Good Things\n",
       "24                                Amelia \n",
       "25                      American Gangster\n",
       "26                           An Education\n",
       "27                              Anonymous\n",
       "28                              Apollo 18\n",
       "29                              Appaloosa\n",
       "                      ...                \n",
       "529                             War Horse\n",
       "530                               Warrior\n",
       "531                             Watchmen \n",
       "532                   Water For Elephants\n",
       "533                       We Bought a Zoo\n",
       "534                      We Own the Night\n",
       "535          Welcome Home, Roscoe Jenkins\n",
       "536                 What Happens in Vegas\n",
       "537                    What's Your Number\n",
       "538                       Whatever Works \n",
       "539                          When in Rome\n",
       "540            Where the Wild Things Are \n",
       "541                              Whip It \n",
       "542                             Whiteout \n",
       "543            Why Did I Get Married Too?\n",
       "544                             Wild Hogs\n",
       "545                         Winter's Bone\n",
       "546             X-Men Origins: Wolverine \n",
       "547                    X-Men: First Class\n",
       "548                             Year One \n",
       "549                               Yes Man\n",
       "550                             Yogi Bear\n",
       "551                             You Again\n",
       "552         You Don't Mess with the Zohan\n",
       "553    You Will Meet a Tall Dark Stranger\n",
       "554                         Your Highness\n",
       "555                       Youth in Revolt\n",
       "556                                Zodiac\n",
       "557                           Zombieland \n",
       "558                             Zookeeper\n",
       "Name: Film, Length: 559, dtype: object"
      ]
     },
     "execution_count": 17,
     "metadata": {},
     "output_type": "execute_result"
    }
   ],
   "source": [
    "#or \n",
    "movies.Film"
   ]
  },
  {
   "cell_type": "code",
   "execution_count": 20,
   "metadata": {},
   "outputs": [],
   "source": [
    "movies.Film= movies.Film.astype('category')\n",
    "#changing Cateogry~~~~~"
   ]
  },
  {
   "cell_type": "code",
   "execution_count": 21,
   "metadata": {},
   "outputs": [
    {
     "data": {
      "text/plain": [
       "<bound method DataFrame.info of                                    Film      Genre  CriticsRating  \\\n",
       "0                 (500) Days of Summer      Comedy             87   \n",
       "1                           10,000 B.C.  Adventure              9   \n",
       "2                            12 Rounds      Action             30   \n",
       "3                             127 Hours  Adventure             93   \n",
       "4                             17 Again      Comedy             55   \n",
       "5                                  2012     Action             39   \n",
       "6                            27 Dresses     Comedy             40   \n",
       "7                      30 Days of Night     Horror             50   \n",
       "8                    30 Minutes or Less     Comedy             43   \n",
       "9                                 50/50     Comedy             93   \n",
       "10                           88 Minutes      Drama              5   \n",
       "11                   A Dangerous Method      Drama             79   \n",
       "12            A Nightmare on Elm Street     Horror             13   \n",
       "13                       A Serious Man       Drama             89   \n",
       "14    A Very Harold and Kumar Christmas     Comedy             72   \n",
       "15                            Abduction     Action              4   \n",
       "16                  Across the Universe    Romance             54   \n",
       "17                       Adventureland      Comedy             89   \n",
       "18                         Albert Nobbs      Drama             53   \n",
       "19                  Alice in Wonderland  Adventure             52   \n",
       "20        Alien vs. Predator -- Requiem     Horror             14   \n",
       "21                 Aliens in the Attic   Adventure             30   \n",
       "22                     All About Steve      Comedy              6   \n",
       "23                      All Good Things      Drama             33   \n",
       "24                              Amelia   Adventure             21   \n",
       "25                    American Gangster   Thriller             79   \n",
       "26                         An Education      Drama             94   \n",
       "27                            Anonymous      Drama             46   \n",
       "28                            Apollo 18     Horror             23   \n",
       "29                            Appaloosa     Action             77   \n",
       "..                                  ...        ...            ...   \n",
       "529                           War Horse      Drama             77   \n",
       "530                             Warrior     Action             83   \n",
       "531                           Watchmen      Action             64   \n",
       "532                 Water For Elephants      Drama             60   \n",
       "533                     We Bought a Zoo     Comedy             63   \n",
       "534                    We Own the Night      Drama             55   \n",
       "535        Welcome Home, Roscoe Jenkins     Comedy             24   \n",
       "536               What Happens in Vegas     Comedy             28   \n",
       "537                  What's Your Number     Comedy             24   \n",
       "538                     Whatever Works      Comedy             50   \n",
       "539                        When in Rome     Comedy             15   \n",
       "540          Where the Wild Things Are   Adventure             73   \n",
       "541                            Whip It       Drama             84   \n",
       "542                           Whiteout      Action              7   \n",
       "543          Why Did I Get Married Too?     Comedy             27   \n",
       "544                           Wild Hogs     Comedy             14   \n",
       "545                       Winter's Bone      Drama             94   \n",
       "546           X-Men Origins: Wolverine      Action             37   \n",
       "547                  X-Men: First Class     Action             87   \n",
       "548                           Year One   Adventure             14   \n",
       "549                             Yes Man     Comedy             43   \n",
       "550                           Yogi Bear     Comedy             14   \n",
       "551                           You Again     Comedy             18   \n",
       "552       You Don't Mess with the Zohan     Comedy             36   \n",
       "553  You Will Meet a Tall Dark Stranger     Comedy             43   \n",
       "554                       Your Highness     Comedy             26   \n",
       "555                     Youth in Revolt     Comedy             68   \n",
       "556                              Zodiac   Thriller             89   \n",
       "557                         Zombieland      Action             90   \n",
       "558                           Zookeeper     Comedy             14   \n",
       "\n",
       "     AudienceRating  BudgetMillions  Year  \n",
       "0                81               8  2009  \n",
       "1                44             105  2008  \n",
       "2                52              20  2009  \n",
       "3                84              18  2010  \n",
       "4                70              20  2009  \n",
       "5                63             200  2009  \n",
       "6                71              30  2008  \n",
       "7                57              32  2007  \n",
       "8                48              28  2011  \n",
       "9                93               8  2011  \n",
       "10               51              30  2007  \n",
       "11               89              20  2011  \n",
       "12               40              35  2010  \n",
       "13               64               7  2009  \n",
       "14               71              19  2011  \n",
       "15               46              35  2011  \n",
       "16               84              45  2007  \n",
       "17               56              10  2009  \n",
       "18               43               8  2011  \n",
       "19               72             200  2010  \n",
       "20               37              40  2007  \n",
       "21               46              45  2009  \n",
       "22               35              15  2009  \n",
       "23               64              20  2010  \n",
       "24               35              40  2009  \n",
       "25               87             100  2007  \n",
       "26               78               8  2009  \n",
       "27               66              30  2011  \n",
       "28               31               5  2011  \n",
       "29               55              20  2008  \n",
       "..              ...             ...   ...  \n",
       "529              73              66  2011  \n",
       "530              93              25  2011  \n",
       "531              68             130  2009  \n",
       "532              72              38  2011  \n",
       "533              79              50  2011  \n",
       "534              63              21  2007  \n",
       "535              64              35  2008  \n",
       "536              72              35  2008  \n",
       "537              50              20  2011  \n",
       "538              63              15  2009  \n",
       "539              44               0  2010  \n",
       "540              59             100  2009  \n",
       "541              73              15  2009  \n",
       "542              28              35  2009  \n",
       "543              67              20  2010  \n",
       "544              72              90  2007  \n",
       "545              73               2  2010  \n",
       "546              72             150  2009  \n",
       "547              88             160  2011  \n",
       "548              31              60  2009  \n",
       "549              72              70  2008  \n",
       "550              36              80  2010  \n",
       "551              45              20  2010  \n",
       "552              50              80  2008  \n",
       "553              35              22  2010  \n",
       "554              36              50  2011  \n",
       "555              52              18  2009  \n",
       "556              73              65  2007  \n",
       "557              87              24  2009  \n",
       "558              42              80  2011  \n",
       "\n",
       "[559 rows x 6 columns]>"
      ]
     },
     "execution_count": 21,
     "metadata": {},
     "output_type": "execute_result"
    }
   ],
   "source": [
    "movies.info \n",
    "#....? What just happened? \n",
    "# movies.info() is correct. ( ) needed"
   ]
  },
  {
   "cell_type": "code",
   "execution_count": 22,
   "metadata": {},
   "outputs": [
    {
     "name": "stdout",
     "output_type": "stream",
     "text": [
      "<class 'pandas.core.frame.DataFrame'>\n",
      "RangeIndex: 559 entries, 0 to 558\n",
      "Data columns (total 6 columns):\n",
      "Film              559 non-null category\n",
      "Genre             559 non-null object\n",
      "CriticsRating     559 non-null int64\n",
      "AudienceRating    559 non-null int64\n",
      "BudgetMillions    559 non-null int64\n",
      "Year              559 non-null int64\n",
      "dtypes: category(1), int64(4), object(1)\n",
      "memory usage: 47.4+ KB\n"
     ]
    }
   ],
   "source": [
    "movies.info()"
   ]
  },
  {
   "cell_type": "code",
   "execution_count": 23,
   "metadata": {},
   "outputs": [],
   "source": [
    "# in R categories are called factors, similar stuff"
   ]
  },
  {
   "cell_type": "code",
   "execution_count": 27,
   "metadata": {},
   "outputs": [],
   "source": [
    "movies.Genre= movies.Genre.astype('category')\n",
    "movies.Year=movies.Year.astype('category')"
   ]
  },
  {
   "cell_type": "code",
   "execution_count": 28,
   "metadata": {},
   "outputs": [
    {
     "name": "stdout",
     "output_type": "stream",
     "text": [
      "<class 'pandas.core.frame.DataFrame'>\n",
      "RangeIndex: 559 entries, 0 to 558\n",
      "Data columns (total 6 columns):\n",
      "Film              559 non-null category\n",
      "Genre             559 non-null category\n",
      "CriticsRating     559 non-null int64\n",
      "AudienceRating    559 non-null int64\n",
      "BudgetMillions    559 non-null int64\n",
      "Year              559 non-null category\n",
      "dtypes: category(3), int64(3)\n",
      "memory usage: 40.3 KB\n"
     ]
    }
   ],
   "source": [
    "movies.info()"
   ]
  },
  {
   "cell_type": "code",
   "execution_count": 29,
   "metadata": {},
   "outputs": [
    {
     "data": {
      "text/plain": [
       "Index(['Action', 'Adventure', 'Comedy', 'Drama', 'Horror', 'Romance',\n",
       "       'Thriller'],\n",
       "      dtype='object')"
      ]
     },
     "execution_count": 29,
     "metadata": {},
     "output_type": "execute_result"
    }
   ],
   "source": [
    "movies.Genre.cat.categories # for unique values"
   ]
  },
  {
   "cell_type": "code",
   "execution_count": 30,
   "metadata": {},
   "outputs": [
    {
     "data": {
      "text/html": [
       "<div>\n",
       "<style scoped>\n",
       "    .dataframe tbody tr th:only-of-type {\n",
       "        vertical-align: middle;\n",
       "    }\n",
       "\n",
       "    .dataframe tbody tr th {\n",
       "        vertical-align: top;\n",
       "    }\n",
       "\n",
       "    .dataframe thead th {\n",
       "        text-align: right;\n",
       "    }\n",
       "</style>\n",
       "<table border=\"1\" class=\"dataframe\">\n",
       "  <thead>\n",
       "    <tr style=\"text-align: right;\">\n",
       "      <th></th>\n",
       "      <th>CriticsRating</th>\n",
       "      <th>AudienceRating</th>\n",
       "      <th>BudgetMillions</th>\n",
       "    </tr>\n",
       "  </thead>\n",
       "  <tbody>\n",
       "    <tr>\n",
       "      <th>count</th>\n",
       "      <td>559.000000</td>\n",
       "      <td>559.000000</td>\n",
       "      <td>559.000000</td>\n",
       "    </tr>\n",
       "    <tr>\n",
       "      <th>mean</th>\n",
       "      <td>47.309481</td>\n",
       "      <td>58.744186</td>\n",
       "      <td>50.236136</td>\n",
       "    </tr>\n",
       "    <tr>\n",
       "      <th>std</th>\n",
       "      <td>26.413091</td>\n",
       "      <td>16.826887</td>\n",
       "      <td>48.731817</td>\n",
       "    </tr>\n",
       "    <tr>\n",
       "      <th>min</th>\n",
       "      <td>0.000000</td>\n",
       "      <td>0.000000</td>\n",
       "      <td>0.000000</td>\n",
       "    </tr>\n",
       "    <tr>\n",
       "      <th>25%</th>\n",
       "      <td>25.000000</td>\n",
       "      <td>47.000000</td>\n",
       "      <td>20.000000</td>\n",
       "    </tr>\n",
       "    <tr>\n",
       "      <th>50%</th>\n",
       "      <td>46.000000</td>\n",
       "      <td>58.000000</td>\n",
       "      <td>35.000000</td>\n",
       "    </tr>\n",
       "    <tr>\n",
       "      <th>75%</th>\n",
       "      <td>70.000000</td>\n",
       "      <td>72.000000</td>\n",
       "      <td>65.000000</td>\n",
       "    </tr>\n",
       "    <tr>\n",
       "      <th>max</th>\n",
       "      <td>97.000000</td>\n",
       "      <td>96.000000</td>\n",
       "      <td>300.000000</td>\n",
       "    </tr>\n",
       "  </tbody>\n",
       "</table>\n",
       "</div>"
      ],
      "text/plain": [
       "       CriticsRating  AudienceRating  BudgetMillions\n",
       "count     559.000000      559.000000      559.000000\n",
       "mean       47.309481       58.744186       50.236136\n",
       "std        26.413091       16.826887       48.731817\n",
       "min         0.000000        0.000000        0.000000\n",
       "25%        25.000000       47.000000       20.000000\n",
       "50%        46.000000       58.000000       35.000000\n",
       "75%        70.000000       72.000000       65.000000\n",
       "max        97.000000       96.000000      300.000000"
      ]
     },
     "execution_count": 30,
     "metadata": {},
     "output_type": "execute_result"
    }
   ],
   "source": [
    "movies.describe() # since Year is now a category, Python has learnt not to include it for these stats"
   ]
  },
  {
   "cell_type": "code",
   "execution_count": null,
   "metadata": {},
   "outputs": [],
   "source": []
  }
 ],
 "metadata": {
  "kernelspec": {
   "display_name": "Python 3",
   "language": "python",
   "name": "python3"
  },
  "language_info": {
   "codemirror_mode": {
    "name": "ipython",
    "version": 3
   },
   "file_extension": ".py",
   "mimetype": "text/x-python",
   "name": "python",
   "nbconvert_exporter": "python",
   "pygments_lexer": "ipython3",
   "version": "3.6.5"
  }
 },
 "nbformat": 4,
 "nbformat_minor": 2
}
